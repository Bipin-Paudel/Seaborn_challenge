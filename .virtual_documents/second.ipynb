from matplotlib import pyplot as plt
import pandas as pd 
import matplotlib as plt
import seaborn as sns
import plotly.express as px



gap =px.data.gapminder()
df1 = gap[gap['country'].isin (['India','Brazil','Germany'])]



df1.sample(5)


 sns.relplot(data=df1 , x ='year' , y ='lifeExp' ,
 hue='country' , kind ='line' ,style='continent')


sns.relplot(data=df1 , x ='year' , y ='lifeExp' , 
hue='country' , kind ='line' ,
 style='continent',size ='continent')


# loading tips dataset 

tips = sns.load_dataset('tips')



tips.sample(2)



 # For particular category , we can plot graphs
 sns.relplot(data=tips , x = 'total_bill' ,y ='tip', col ='sex') # col


 # Both row , col
 sns.relplot(data=tips , x = 'total_bill' ,y ='tip', 
 col ='smoker', row='sex')


 sns.relplot(data=tips , x = 'total_bill' ,y ='tip', 
col ='sex', row='day')



 # facet on line plot
 sns.relplot(data=tips , x = 'total_bill' ,y ='tip', 
col ='sex', row='day', kind ='line')


 # Column wrap
 sns.relplot(data=gap, x='lifeExp', y='gdpPercap',
 kind='scatter', col='year', col_wrap=3) # col_wrap


 # Figure level Function
 sns.displot(data =tips,x ='total_bill',kind ='hist')



 # Bins Parameter
 sns.displot(data =tips,x ='total_bill',
 kind ='hist',bins =20)  


 # It’s also possible to visualize the distribution of a categorical variable u
 # Discrete bins are automatically set for categorical variables
 # countplot
 sns.displot(data=tips, x='day', kind='hist')



 # hue parameter
 sns.displot(data=tips, x='tip', kind='hist',hue='sex')



 # element -> step
 sns.displot(data=tips, x='tip', kind='hist', 
 hue='sex',element='step')


titanic = sns.load_dataset('titanic') 
titanic.sample(2)


sns.displot(data =titanic,x ='age' , kind ='hist', 
element ='step' , hue ='survived')




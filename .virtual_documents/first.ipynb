import seaborn as sns
import matplotlib.pyplot as plt
import plotly.express as px


tips = sns.load_dataset('tips')
tips


# Axes Level Function
sns.scatterplot(data=tips, x = 'total_bill' ,y ='tip')



sns.scatterplot(data=tips , x = 'total_bill' ,y ='tip', hue ='sex')


# size 
sns.scatterplot(data=tips , x = 'total_bill' ,
 y ='tip', hue ='sex', style ='time', 
size ='size')


## Figure level function --- Square Shape
sns.relplot(data=tips , x = 'total_bill' ,y ='tip', kind ='scatter', hue ='sex', style ='time',
 size ='size')


# Line plot

gap =px.data.gapminder()
gap


temp_df = gap[gap['country']=='India'] 
temp_df


# Axes Level Function
sns.lineplot(data =temp_df ,x ='year' ,y='lifeExp')


# Figure Level function --> Square
sns.relplot(data =temp_df ,x ='year' ,y='lifeExp' , kind ='line')


# Hue
df = gap[gap['country'].isin (['India','Pakistan','China'])]
df.sample(5)


 # Figure level function
 sns.relplot(data=df , x ='year' , y ='lifeExp' , 
 hue='country' , kind ='line')


# axes level function
sns.lineplot(data=df , x ='year' , y ='lifeExp' , hue='country' )




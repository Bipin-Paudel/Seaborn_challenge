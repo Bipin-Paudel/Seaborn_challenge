



import seaborn as sns
import matplotlib.pyplot as plt
import plotly.express as px


tips = sns.load_dataset('tips')
gap =px.data.gapminder()


 # Rather than using discrete bins, a KDE plot smooths the observations 
#with a Gaussian kernel, producing a continuous density estimate
 sns.kdeplot(data=tips,x='total_bill')



 # Figure level Function
 sns.displot(data = tips , x ='total_bill' , kind ='kde')


 # Hue
 sns.displot(data = tips , x ='total_bill' , kind ='kde' , hue ='sex')


 # fill
 sns.displot(data = tips , x ='total_bill' , kind ='kde', 
hue ='sex',fill =True) # fill


 # Plot marginal distributions by drawing ticks along the x and y axes.
 # This function is intended to complement other plots by showing the location 
# of individual observations in an unobtrusive way.
 sns.kdeplot(data=tips,x='total_bill')
 sns.rugplot(data=tips,x='total_bill') # rug plot


 # A bivariate histogram bins the data within rectangles that tile the plot
 # and then shows the count of observations within each rectangle 
# with the fill color
 sns.histplot(data=tips, x='total_bill', y='tip') # Axes level


sns.displot(data=tips, x='total_bill', y='tip',kind='hist')



 # a bivariate KDE plot smoothes the (x, y) observations with a 2D Gaussian
 sns.kdeplot(data=tips, x='total_bill', y='tip') # Axes level


 # Figure level Function
 sns.displot(data=tips,x='total_bill', y='tip',kind ='kde')


 # Heatmap
 # Plot rectangular data as a color-encoded matrix
 gap


 # Converting long data to wide data
 df = gap.pivot(index = 'country' , columns ='year',values ='lifeExp')
 df


# Axes level function
plt.figure(figsize =(15,15)) 
sns.heatmap(data =df)


 df.eur = gap[gap['continent']=='Europe'].pivot(index = 'country',
 columns ='year',values ='lifeExp')
 plt.figure(figsize =(15,15))
 sns.heatmap(data=df.eur , annot =True)


 plt.figure(figsize =(15,15))
 sns.heatmap(data=df.eur , annot =True , linewidth = 0.5)


plt.figure(figsize =(15,15))
sns.heatmap(data=df.eur , annot =True , linewidth = 0.5 , cmap ='viridis')


 plt.figure(figsize =(15,15))
 sns.heatmap(data=df.eur , annot =True , linewidth = 0.5 , cmap ='spring')




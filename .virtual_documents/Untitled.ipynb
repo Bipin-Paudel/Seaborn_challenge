import numpy as np
import seaborn as sns
import matplotlib.pyplot as plt 


 # import datasets
 tips = sns.load_dataset('tips') 
 iris = sns.load_dataset('iris')


tips.sample(2)


iris.sample(2)


 # ON Numerical data
 sns.scatterplot(data=tips, x='total_bill',y='tip')





# axes level function
# On categorical data
sns.stripplot(data=tips,x='day',y='total_bill')


# jitter
sns.stripplot(data=tips,x='day',y='total_bill', jitter=False)


 # catplot -> Categorical plot
 # Figure Level functions
 sns.catplot(data=tips,x='day',y='total_bill',kind = 'strip')



